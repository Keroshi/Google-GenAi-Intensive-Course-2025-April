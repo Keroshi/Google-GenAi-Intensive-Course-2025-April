{
 "metadata": {
  "kernelspec": {
   "name": "python3",
   "display_name": "Python 3",
   "language": "python"
  },
  "language_info": {
   "name": "python",
   "version": "3.10.12",
   "mimetype": "text/x-python",
   "codemirror_mode": {
    "name": "ipython",
    "version": 3
   },
   "pygments_lexer": "ipython3",
   "nbconvert_exporter": "python",
   "file_extension": ".py"
  },
  "colab": {
   "provenance": [],
   "toc_visible": true
  },
  "kaggle": {
   "accelerator": "none",
   "dataSources": [],
   "dockerImageVersionId": 30918,
   "isInternetEnabled": true,
   "language": "python",
   "sourceType": "notebook",
   "isGpuEnabled": false
  }
 },
 "nbformat_minor": 4,
 "nbformat": 4,
 "cells": [
  {
   "cell_type": "markdown",
   "source": "Copyright 2025 Google LLC.",
   "metadata": {}
  },
  {
   "cell_type": "code",
   "source": "# @title Licensed under the Apache License, Version 2.0 (the \"License\");\n# you may not use this file except in compliance with the License.\n# You may obtain a copy of the License at\n#\n# https://www.apache.org/licenses/LICENSE-2.0\n#\n# Unless required by applicable law or agreed to in writing, software\n# distributed under the License is distributed on an \"AS IS\" BASIS,\n# WITHOUT WARRANTIES OR CONDITIONS OF ANY KIND, either express or implied.\n# See the License for the specific language governing permissions and\n# limitations under the License.",
   "metadata": {
    "trusted": true,
    "jupyter": {
     "source_hidden": true
    },
    "execution": {
     "iopub.status.busy": "2025-03-31T09:30:24.536663Z",
     "iopub.execute_input": "2025-03-31T09:30:24.536995Z",
     "iopub.status.idle": "2025-03-31T09:30:24.541068Z",
     "shell.execute_reply.started": "2025-03-31T09:30:24.536968Z",
     "shell.execute_reply": "2025-03-31T09:30:24.540074Z"
    }
   },
   "outputs": [],
   "execution_count": null
  },
  {
   "cell_type": "markdown",
   "source": "# Day 1 - Evaluation and structured output\n\n## Overview\n\nWelcome back to the Kaggle 5-day Generative AI course. In this notebook, you'll learn some techniques for evaluating the output of a language model. As part of the evaluation, you will also use Gemini's structured data capability to produce evaluation results as instances of Python types.\n\nNote: This notebook is more code-heavy than the first Day 1 notebook ([Prompting](https://www.kaggle.com/code/markishere/day-1-prompting/)). This notebook is not a prerequisite for days 2 and beyond, so feel free to skip over it, or come back later in the week. If you have not yet tried the [Prompting](https://www.kaggle.com/code/markishere/day-1-prompting/) notebook, start there first as it introduces the fundamentals for interacting with LLMs.\n\nAlso check out the **bonus whitepaper** on [Evaluating Large Language Models](https://services.google.com/fh/files/blogs/neurips_evaluation.pdf).\n\n## For help\n\n**Common issues are covered in the [FAQ and troubleshooting guide](https://www.kaggle.com/code/markishere/day-0-troubleshooting-and-faqs).**\n",
   "metadata": {
    "id": "jYWMmQV7SJt6"
   }
  },
  {
   "cell_type": "markdown",
   "source": "## Setup\n\nInstall the Python SDK.",
   "metadata": {
    "id": "ZrE2lTyXSMmz"
   }
  },
  {
   "cell_type": "code",
   "source": "!pip install -Uq \"google-genai==1.7.0\"",
   "metadata": {
    "id": "lEwSQePeF6w-",
    "trusted": true,
    "execution": {
     "iopub.status.busy": "2025-04-03T13:52:06.933623Z",
     "iopub.execute_input": "2025-04-03T13:52:06.933891Z",
     "iopub.status.idle": "2025-04-03T13:52:14.711621Z",
     "shell.execute_reply.started": "2025-04-03T13:52:06.933865Z",
     "shell.execute_reply": "2025-04-03T13:52:14.710307Z"
    },
    "ExecuteTime": {
     "end_time": "2025-04-03T14:52:17.231104Z",
     "start_time": "2025-04-03T14:52:13.050373Z"
    }
   },
   "outputs": [],
   "execution_count": 1
  },
  {
   "cell_type": "code",
   "source": "from google import genai\nfrom google.genai import types\n\nfrom IPython.display import Markdown, display\n\ngenai.__version__",
   "metadata": {
    "id": "VWZlEwomGDir",
    "outputId": "e4e4a419-7be5-4b0e-c534-25a089c65600",
    "trusted": true,
    "execution": {
     "iopub.status.busy": "2025-04-03T13:52:45.314039Z",
     "iopub.execute_input": "2025-04-03T13:52:45.314443Z",
     "iopub.status.idle": "2025-04-03T13:52:47.074447Z",
     "shell.execute_reply.started": "2025-04-03T13:52:45.314406Z",
     "shell.execute_reply": "2025-04-03T13:52:47.073338Z"
    },
    "ExecuteTime": {
     "end_time": "2025-04-03T14:52:20.484482Z",
     "start_time": "2025-04-03T14:52:19.706597Z"
    }
   },
   "outputs": [
    {
     "data": {
      "text/plain": [
       "'1.7.0'"
      ]
     },
     "execution_count": 2,
     "metadata": {},
     "output_type": "execute_result"
    }
   ],
   "execution_count": 2
  },
  {
   "cell_type": "markdown",
   "source": "### Set up your API key\n\nTo run the following cell, your API key must be stored it in a [Kaggle secret](https://www.kaggle.com/discussions/product-feedback/114053) named `GOOGLE_API_KEY`.\n\nIf you don't already have an API key, you can grab one from [AI Studio](https://aistudio.google.com/app/apikey). You can find [detailed instructions in the docs](https://ai.google.dev/gemini-api/docs/api-key).\n\nTo make the key available through Kaggle secrets, choose `Secrets` from the `Add-ons` menu and follow the instructions to add your key or enable it for this notebook.",
   "metadata": {}
  },
  {
   "cell_type": "code",
   "source": [
    "from dotenv import load_dotenv\n",
    "import os\n",
    "\n",
    "load_dotenv()  # Load environment variables\n",
    "api_key = os.getenv(\"API_KEY\")\n",
    "\n",
    "\n",
    "client = genai.Client(api_key=api_key)"
   ],
   "metadata": {
    "id": "UteFYo7jGHRf",
    "trusted": true,
    "execution": {
     "iopub.status.busy": "2025-04-03T13:52:48.751857Z",
     "iopub.execute_input": "2025-04-03T13:52:48.752427Z",
     "iopub.status.idle": "2025-04-03T13:52:49.292839Z",
     "shell.execute_reply.started": "2025-04-03T13:52:48.752393Z",
     "shell.execute_reply": "2025-04-03T13:52:49.291800Z"
    },
    "ExecuteTime": {
     "end_time": "2025-04-03T14:52:23.134768Z",
     "start_time": "2025-04-03T14:52:22.626563Z"
    }
   },
   "outputs": [],
   "execution_count": 3
  },
  {
   "cell_type": "markdown",
   "source": "If you received an error response along the lines of `No user secrets exist for kernel id ...`, then you need to add your API key via `Add-ons`, `Secrets` **and** enable it.\n\n![Screenshot of the checkbox to enable GOOGLE_API_KEY secret](https://storage.googleapis.com/kaggle-media/Images/5gdai_sc_3.png)",
   "metadata": {}
  },
  {
   "cell_type": "markdown",
   "source": "### Automated retry\n\nThis codelab sends a lot of requests, so set up an automatic retry\nthat ensures your requests are retried when per-minute quota is reached.",
   "metadata": {
    "id": "eCa4OX2DNyLI"
   }
  },
  {
   "cell_type": "code",
   "source": "from google.api_core import retry\n\nis_retriable = lambda e: (isinstance(e, genai.errors.APIError) and e.code in {429, 503})\n\nif not hasattr(genai.models.Models.generate_content, '__wrapped__'):\n  genai.models.Models.generate_content = retry.Retry(\n      predicate=is_retriable)(genai.models.Models.generate_content)",
   "metadata": {
    "id": "V8as-_Hnr_cj",
    "trusted": true,
    "execution": {
     "iopub.status.busy": "2025-04-03T13:52:52.164884Z",
     "iopub.execute_input": "2025-04-03T13:52:52.165377Z",
     "iopub.status.idle": "2025-04-03T13:52:52.578706Z",
     "shell.execute_reply.started": "2025-04-03T13:52:52.165335Z",
     "shell.execute_reply": "2025-04-03T13:52:52.577555Z"
    },
    "ExecuteTime": {
     "end_time": "2025-04-03T14:52:25.714044Z",
     "start_time": "2025-04-03T14:52:25.634380Z"
    }
   },
   "outputs": [],
   "execution_count": 4
  },
  {
   "cell_type": "markdown",
   "source": "## Evaluation",
   "metadata": {
    "id": "ZKH1is0gSO0p"
   }
  },
  {
   "cell_type": "markdown",
   "source": "When using LLMs in real-world cases, it's important to understand how well they are performing. The open-ended generation capabilities of LLMs can make many cases difficult to measure. In this notebook you will walk through some simple techniques for evaluating LLM outputs and understanding their performance.\n\nFor this example, you'll evaluate a summarisation task using the [Gemini 1.5 Pro technical report](https://storage.googleapis.com/cloud-samples-data/generative-ai/pdf/2403.05530.pdf). Start by downloading the PDF to the notebook environment, and uploading that copy for use with the Gemini API.",
   "metadata": {
    "id": "ToUMpZTgGnyh"
   }
  },
  {
   "cell_type": "code",
   "source": [
    "import os\n",
    "\n",
    "folder_path = \"./inputs\"\n",
    "\n",
    "# Check if folder exists, if not, create it\n",
    "if not os.path.exists(folder_path):\n",
    "    os.makedirs(folder_path)\n",
    "    print(f\"Folder '{folder_path}' created!\")\n",
    "else:\n",
    "    print(f\"Folder '{folder_path}' already exists.\")\n",
    "\n",
    "files = os.listdir(\"./inputs\")\n",
    "if \"gemini.pdf\" in files:\n",
    "    print(\"File Already Exists\")\n",
    "else:\n",
    "    !curl -o ./inputs/gemini.pdf https://storage.googleapis.com/cloud-samples-data/generative-ai/pdf/2403.05530.pdf\n",
    "\n",
    "document_file = client.files.upload(file='./inputs/gemini.pdf')"
   ],
   "metadata": {
    "id": "VVo85Inrn65Z",
    "outputId": "52c2de9c-9665-4261-c6ba-4a6692ea9e30",
    "trusted": true,
    "execution": {
     "iopub.status.busy": "2025-04-03T13:52:54.982532Z",
     "iopub.execute_input": "2025-04-03T13:52:54.983044Z",
     "iopub.status.idle": "2025-04-03T13:52:55.832430Z",
     "shell.execute_reply.started": "2025-04-03T13:52:54.983013Z",
     "shell.execute_reply": "2025-04-03T13:52:55.831112Z"
    },
    "ExecuteTime": {
     "end_time": "2025-04-03T15:43:27.707355Z",
     "start_time": "2025-04-03T15:43:19.946061Z"
    }
   },
   "outputs": [
    {
     "name": "stdout",
     "output_type": "stream",
     "text": [
      "Folder './inputs' created!\n"
     ]
    },
    {
     "name": "stderr",
     "output_type": "stream",
     "text": [
      "  % Total    % Received % Xferd  Average Speed   Time    Time     Time  Current\n",
      "                                 Dload  Upload   Total   Spent    Left  Speed\n",
      "\n",
      "  0     0    0     0    0     0      0      0 --:--:-- --:--:-- --:--:--     0\n",
      " 43 7059k   43 3072k    0     0  4087k      0  0:00:01 --:--:--  0:00:01 4096k\n",
      " 69 7059k   69 4880k    0     0  2773k      0  0:00:02  0:00:01  0:00:01 2775k\n",
      " 94 7059k   94 6640k    0     0  2415k      0  0:00:02  0:00:02 --:--:-- 2417k\n",
      "100 7059k  100 7059k    0     0  2372k      0  0:00:02  0:00:02 --:--:-- 2374k\n"
     ]
    }
   ],
   "execution_count": 23
  },
  {
   "cell_type": "markdown",
   "source": "### Summarise a document\n\nThe summarisation request used here is fairly basic. It targets the training content specifically but provides no guidance otherwise.",
   "metadata": {
    "id": "OziWUFKNqQEy"
   }
  },
  {
   "cell_type": "code",
   "source": "request = 'Tell me about the training process used here.'\n\ndef summarise_doc(request: str) -> str:\n  \"\"\"Execute the request on the uploaded document.\"\"\"\n  # Set the temperature low to stabilise the output.\n  config = types.GenerateContentConfig(temperature=0.0)\n  response = client.models.generate_content(\n      model='gemini-2.0-flash',\n      config=config,\n      contents=[request, document_file],\n  )\n\n  return response.text\n\nsummary = summarise_doc(request)\nMarkdown(summary)",
   "metadata": {
    "id": "Jxx92-z90tPS",
    "outputId": "1ed16b55-d456-4099-acac-04e9540c6aee",
    "trusted": true,
    "execution": {
     "iopub.status.busy": "2025-04-03T13:52:58.971932Z",
     "iopub.execute_input": "2025-04-03T13:52:58.972345Z",
     "iopub.status.idle": "2025-04-03T13:53:11.505645Z",
     "shell.execute_reply.started": "2025-04-03T13:52:58.972310Z",
     "shell.execute_reply": "2025-04-03T13:53:11.504741Z"
    },
    "ExecuteTime": {
     "end_time": "2025-04-03T14:56:32.323130Z",
     "start_time": "2025-04-03T14:56:17.588005Z"
    }
   },
   "outputs": [
    {
     "data": {
      "text/plain": [
       "<IPython.core.display.Markdown object>"
      ],
      "text/markdown": "Certainly! Let's break down the training process used for Gemini 1.5 Pro, based on the information provided in the document.\n\n**Key Aspects of the Training Process:**\n\n1.  **Model Architecture:**\n    *   Gemini 1.5 Pro is a **sparse mixture-of-experts (MoE) Transformer-based model.** This means it builds upon the Transformer architecture (Vaswani et al., 2017), but incorporates a MoE approach.\n    *   MoE models use a learned routing function to direct inputs to a subset of the model's parameters for processing. This allows the model to have a large total parameter count while keeping the number of parameters activated for any given input constant.\n\n2.  **Training Infrastructure:**\n    *   The model was trained on **multiple 4096-chip pods of Google's TPUv4 accelerators**, distributed across multiple datacenters. This indicates a very large-scale, distributed training setup.\n\n3.  **Training Data:**\n    *   The pre-training dataset includes data sourced across many different domains, including web documents and code, and incorporates image, audio, and video content.\n    *   The instruction-tuning phase finetuned Gemini 1.5 Pro on a collection of multimodal data (containing paired instructions and appropriate responses), with further tuning based on human preference data.\n\n4.  **Training Objectives:**\n    *   The model is trained to improve next-token prediction. The negative log-likelihood (NLL) of tokens at different positions in the input sequences from held-out text is recorded. A lower value implies an improved prediction.\n\n5.  **Long-Context Handling:**\n    *   Gemini 1.5 Pro incorporates a series of significant architecture changes that enable long-context understanding of inputs up to 10 million tokens without degrading performance.\n\n**In summary:**\n\nThe training process for Gemini 1.5 Pro involves a large-scale, distributed training setup using TPUs, a diverse multimodal dataset, and a mixture-of-experts Transformer architecture. The model is trained to improve next-token prediction and is designed to handle extremely long contexts.\n\nLet me know if you would like a deeper dive into any of these aspects!\n"
     },
     "execution_count": 8,
     "metadata": {},
     "output_type": "execute_result"
    }
   ],
   "execution_count": 8
  },
  {
   "cell_type": "markdown",
   "source": "### Define an evaluator\n\nFor a task like this, you may wish to evaluate a number of aspects, like how well the model followed the prompt (\"instruction following\"), whether it included relevant data in the prompt (\"groundedness\"), how easy the text is to read (\"fluency\"), or other factors like \"verbosity\" or \"quality\".\n\nYou can instruct an LLM to perform these tasks in a similar manner to how you would instruct a human rater: with a clear definition and [assessment rubric](https://en.wikipedia.org/wiki/Rubric_%28academic%29).\n\nIn this step, you define an evaluation agent using a pre-written \"summarisation\" prompt and use it to gauge the quality of the generated summary.\n\nNote: For more pre-written evaluation prompts covering groundedness, safety, coherence and more, check out this [comprehensive list of model-based evaluation prompts](https://cloud.google.com/vertex-ai/generative-ai/docs/models/metrics-templates) from the Google Cloud docs.",
   "metadata": {
    "id": "6rR0v4Iw64x0"
   }
  },
  {
   "cell_type": "code",
   "source": "import enum\n\n# Define the evaluation prompt\nSUMMARY_PROMPT = \"\"\"\\\n# Instruction\nYou are an expert evaluator. Your task is to evaluate the quality of the responses generated by AI models.\nWe will provide you with the user input and an AI-generated responses.\nYou should first read the user input carefully for analyzing the task, and then evaluate the quality of the responses based on the Criteria provided in the Evaluation section below.\nYou will assign the response a rating following the Rating Rubric and Evaluation Steps. Give step-by-step explanations for your rating, and only choose ratings from the Rating Rubric.\n\n# Evaluation\n## Metric Definition\nYou will be assessing summarization quality, which measures the overall ability to summarize text. Pay special attention to length constraints, such as in X words or in Y sentences. The instruction for performing a summarization task and the context to be summarized are provided in the user prompt. The response should be shorter than the text in the context. The response should not contain information that is not present in the context.\n\n## Criteria\nInstruction following: The response demonstrates a clear understanding of the summarization task instructions, satisfying all of the instruction's requirements.\nGroundedness: The response contains information included only in the context. The response does not reference any outside information.\nConciseness: The response summarizes the relevant details in the original text without a significant loss in key information without being too verbose or terse.\nFluency: The response is well-organized and easy to read.\n\n## Rating Rubric\n5: (Very good). The summary follows instructions, is grounded, is concise, and fluent.\n4: (Good). The summary follows instructions, is grounded, concise, and fluent.\n3: (Ok). The summary mostly follows instructions, is grounded, but is not very concise and is not fluent.\n2: (Bad). The summary is grounded, but does not follow the instructions.\n1: (Very bad). The summary is not grounded.\n\n## Evaluation Steps\nSTEP 1: Assess the response in aspects of instruction following, groundedness, conciseness, and verbosity according to the criteria.\nSTEP 2: Score based on the rubric.\n\n# User Inputs and AI-generated Response\n## User Inputs\n\n### Prompt\n{prompt}\n\n## AI-generated Response\n{response}\n\"\"\"\n\n# Define a structured enum class to capture the result.\nclass SummaryRating(enum.Enum):\n  VERY_GOOD = '5'\n  GOOD = '4'\n  OK = '3'\n  BAD = '2'\n  VERY_BAD = '1'\n\n\ndef eval_summary(prompt, ai_response):\n  \"\"\"Evaluate the generated summary against the prompt used.\"\"\"\n\n  chat = client.chats.create(model='gemini-2.0-flash')\n\n  # Generate the full text response.\n  response = chat.send_message(\n      message=SUMMARY_PROMPT.format(prompt=prompt, response=ai_response)\n  )\n  verbose_eval = response.text\n\n  # Coerce into the desired structure.\n  structured_output_config = types.GenerateContentConfig(\n      response_mime_type=\"text/x.enum\",\n      response_schema=SummaryRating,\n  )\n  response = chat.send_message(\n      message=\"Convert the final score.\",\n      config=structured_output_config,\n  )\n  structured_eval = response.parsed\n\n  return verbose_eval, structured_eval\n\n\ntext_eval, struct_eval = eval_summary(prompt=[request, document_file], ai_response=summary)\nMarkdown(text_eval)",
   "metadata": {
    "id": "xEAXtJte-Ajv",
    "outputId": "04459189-13ee-49e6-fe4d-525d323b1609",
    "trusted": true,
    "execution": {
     "iopub.status.busy": "2025-04-03T13:54:00.538138Z",
     "iopub.execute_input": "2025-04-03T13:54:00.538547Z",
     "iopub.status.idle": "2025-04-03T13:54:02.355568Z",
     "shell.execute_reply.started": "2025-04-03T13:54:00.538520Z",
     "shell.execute_reply": "2025-04-03T13:54:02.354640Z"
    },
    "ExecuteTime": {
     "end_time": "2025-04-03T15:35:36.798804Z",
     "start_time": "2025-04-03T15:35:34.104065Z"
    }
   },
   "outputs": [
    {
     "data": {
      "text/plain": [
       "<IPython.core.display.Markdown object>"
      ],
      "text/markdown": "## Evaluation Explanation\nSTEP 1:\nThe response is quite verbose for the request. The response follows the instructions, but there is a lot of added information that wasn't requested. The response is grounded in the document provided.\n\nSTEP 2:\nI am rating this response as a 3 because the response follows the instructions, is grounded, but is not very concise.\n\n## Rating\n3"
     },
     "execution_count": 13,
     "metadata": {},
     "output_type": "execute_result"
    }
   ],
   "execution_count": 13
  },
  {
   "cell_type": "markdown",
   "source": "In this example, the model generated a textual justification that was set up in a chat context. This full text response is useful both for human interpretation and for giving the model a place to \"collect notes\" while it assesses the text and produces a final score. This \"note taking\" or \"thinking\" strategy typically works well with auto-regressive models, where the generated text is passed back into the model at each generation step. This means the working \"notes\" are used when generating final result output.\n\nIn the next turn, the model converts the text output into a structured response. If you want to aggregate scores or use them programatically then you want to avoid parsing the unstructured text output. Here the `SummaryRating` schema is passed, so the model converts the chat history into an instance of the `SummaryRating` enum.",
   "metadata": {
    "id": "qfkQ0lUByy2o"
   }
  },
  {
   "cell_type": "code",
   "source": "struct_eval",
   "metadata": {
    "id": "Ow9J9tgORiqt",
    "outputId": "2655150b-5f2c-4dfb-be61-fe1aa891c4c3",
    "trusted": true,
    "execution": {
     "iopub.status.busy": "2025-04-03T13:54:05.954998Z",
     "iopub.execute_input": "2025-04-03T13:54:05.955381Z",
     "iopub.status.idle": "2025-04-03T13:54:05.961415Z",
     "shell.execute_reply.started": "2025-04-03T13:54:05.955350Z",
     "shell.execute_reply": "2025-04-03T13:54:05.960306Z"
    },
    "ExecuteTime": {
     "end_time": "2025-04-03T15:35:45.021455Z",
     "start_time": "2025-04-03T15:35:45.015556Z"
    }
   },
   "outputs": [
    {
     "data": {
      "text/plain": [
       "<SummaryRating.OK: '3'>"
      ]
     },
     "execution_count": 14,
     "metadata": {},
     "output_type": "execute_result"
    }
   ],
   "execution_count": 14
  },
  {
   "cell_type": "markdown",
   "source": "### Make the summary prompt better or worse\n\nGemini models tend to be quite good at tasks like direct summarisation without much prompting, so you should expect to see a result like `GOOD` or `VERY_GOOD` on the previous task, even with a rudimentary prompt. Run it a few times to get a feel for the average response.\n\nTo explore how to influence the summarisation output, consider what you might change in the summary request prompt to change the result. Take a look at the evaluation `SUMMARY_PROMPT` for some ideas.\n\nTry the following tweaks and see how they positively or negatively change the result:\n* Be specific with the size of the summary,\n* Request specific information,\n* Ask about information that is not in the document,\n* Ask for different degrees of summarisation (such as \"explain like I'm 5\" or \"with full technical depth\")",
   "metadata": {
    "id": "ox04QsdMuo59"
   }
  },
  {
   "cell_type": "code",
   "source": "new_prompt = \"What is the best LLM?\"\n# Try:\n#  ELI5 the training process\n#  Summarise the needle/haystack evaluation technique in 1 line\n#  Describe the model architecture to someone with a civil engineering degree\n#  What is the best LLM?\n\nif not new_prompt:\n  raise ValueError(\"Try setting a new summarisation prompt.\")\n\n\ndef run_and_eval_summary(prompt):\n  \"\"\"Generate and evaluate the summary using the new prompt.\"\"\"\n  summary = summarise_doc(new_prompt)\n  display(Markdown(summary + '\\n-----'))\n\n  text, struct = eval_summary([new_prompt, document_file], summary)\n  display(Markdown(text + '\\n-----'))\n  print(struct)\n\nrun_and_eval_summary(new_prompt)",
   "metadata": {
    "id": "u7TPwfAquvbb",
    "outputId": "12a24ca3-40c1-40c7-b5e9-a6f3653d162e",
    "trusted": true,
    "execution": {
     "iopub.status.busy": "2025-04-03T14:02:03.649984Z",
     "iopub.execute_input": "2025-04-03T14:02:03.650454Z",
     "iopub.status.idle": "2025-04-03T14:02:17.452888Z",
     "shell.execute_reply.started": "2025-04-03T14:02:03.650419Z",
     "shell.execute_reply": "2025-04-03T14:02:17.451851Z"
    },
    "ExecuteTime": {
     "end_time": "2025-04-03T15:36:02.410107Z",
     "start_time": "2025-04-03T15:35:46.831420Z"
    }
   },
   "outputs": [
    {
     "data": {
      "text/plain": [
       "<IPython.core.display.Markdown object>"
      ],
      "text/markdown": "Determining the \"best\" LLM is complex because it depends heavily on the specific task, desired characteristics, and available resources. There is no single \"best\" model for every situation.\n\nHowever, based on the provided document, here's a summary of the key points about Gemini 1.5 Pro and its position relative to other models:\n\n**Gemini 1.5 Pro's Strengths:**\n\n*   **Extremely Long Context:** Its primary advantage is its ability to handle extremely long contexts (up to 10M tokens), significantly exceeding the context windows of models like Claude 2.1 (200k) and GPT-4 Turbo (128k).\n*   **Multimodal Capabilities:** It natively supports multiple modalities (text, audio, video, images) and can interleave them in the same input sequence.\n*   **Strong Recall:** It demonstrates near-perfect recall on long-context retrieval tasks across modalities.\n*   **Competitive Performance:** It matches or surpasses Gemini 1.0 Ultra's state-of-the-art performance on a broad set of benchmarks, while requiring less compute to train.\n*   **In-Context Learning:** It exhibits surprising in-context learning capabilities, such as learning to translate a new language (Kalamang) from a single set of linguistic documentation.\n*   **Improved Core Capabilities:** It shows generational improvements over Gemini 1.0 Pro in areas like Math, Science, Reasoning, Multilinguality, Video Understanding, Image Understanding, and Code.\n\n**Gemini 1.5 Pro's Limitations (as indicated in the document):**\n\n*   **Not Perfect:** While it performs well, it's not perfect. For example, it doesn't solve 1H-VideoQA perfectly.\n*   **Potential for Bias:** The document discusses the need to monitor and mitigate potential biases in the model's responses.\n*   **Divergence:** It is susceptible to divergence attacks, although it emits memorized training data less frequently than some other models.\n*   **Refusal Rate:** It has a higher refusal rate for grounded questions, implying that the model struggles to understand when to discuss contextually relevant information.\n\n**Comparison to Other Models (based on the document):**\n\n*   **Gemini 1.0 Ultra:** Gemini 1.5 Pro matches or surpasses Gemini 1.0 Ultra's performance on many benchmarks, while being more efficient.\n*   **Claude 2.1 and GPT-4 Turbo:** Gemini 1.5 Pro significantly outperforms these models in long-context tasks due to its much larger context window.\n*   **Specialized Models (USM, Whisper):** On some specific tasks like speech understanding, specialized models may perform better, but Gemini 1.5 Pro offers a more general-purpose solution.\n\n**In conclusion:**\n\nGemini 1.5 Pro is a very powerful LLM, especially when dealing with long-context and multimodal tasks. However, it's not a perfect solution, and other models may be more suitable for specific use cases. The \"best\" LLM depends on the specific requirements of the application.\n\n-----"
     },
     "metadata": {},
     "output_type": "display_data"
    },
    {
     "data": {
      "text/plain": [
       "<IPython.core.display.Markdown object>"
      ],
      "text/markdown": "## Evaluation\n\n### STEP 1: Assess the response in aspects of instruction following, groundedness, conciseness, and verbosity according to the criteria.\nInstruction Following: The prompt requests a summary of the document provided. The response does summarize the document by highlighting the strengths and limitations of Gemini 1.5 Pro in comparison to other models.\nGroundedness: The response is completely grounded in the content of the attached document.\nConciseness: The response is concise.\nFluency: The response is well-written and is easy to understand.\n\n### STEP 2: Score based on the rubric.\nThe response is a very good summary of the document provided and follows instructions well.\nRating: 5\n\n-----"
     },
     "metadata": {},
     "output_type": "display_data"
    },
    {
     "name": "stdout",
     "output_type": "stream",
     "text": [
      "SummaryRating.VERY_GOOD\n"
     ]
    }
   ],
   "execution_count": 15
  },
  {
   "cell_type": "markdown",
   "source": "## Evaluating in practice\n\nEvaluation has many practical uses, for example:\n* You can quickly iterate on a prompt with a small set of test documents,\n* You can compare different models to find what works best for your needs, such as finding the trade-off between price and performance, or finding the best performance for a specific task.\n* When pushing changes to a model or prompt in a production system, you can verify that the system does not regress in quality.\n\nIn this section you will try two different evaluation approaches.",
   "metadata": {
    "id": "Q4q_4Fls9nkl"
   }
  },
  {
   "cell_type": "markdown",
   "source": "### Pointwise evaluation\n\nThe technique used above, where you evaluate a single input/output pair against some criteria is known as pointwise evaluation. This is useful for evaluating singular outputs in an absolute sense, such as \"was it good or bad?\"\n\nIn this exercise, you will try different guidance prompts with a set of questions.",
   "metadata": {
    "id": "v3xaSKwCXa7G"
   }
  },
  {
   "cell_type": "code",
   "source": "import functools\n\n# Try these instructions, or edit and add your own.\nterse_guidance = \"Answer the following question in a single sentence, or as close to that as possible.\"\nmoderate_guidance = \"Provide a brief answer to the following question, use a citation if necessary, but only enough to answer the question.\"\ncited_guidance = \"Provide a thorough, detailed answer to the following question, citing the document and supplying additional background information as much as possible.\"\nguidance_options = {\n    'Terse': terse_guidance,\n    'Moderate': moderate_guidance,\n    'Cited': cited_guidance,\n}\n\nquestions = [\n    # Un-comment one or more questions to try here, or add your own.\n    # Evaluating more questions will take more time, but produces results\n    # with higher confidence. In a production system, you may have hundreds\n    # of questions to evaluate a complex system.\n\n    \"What metric(s) are used to evaluate long context performance?\",\n    \"How does the model perform on code tasks?\",\n    \"How many layers does it have?\",\n    \"Why is it called Gemini?\",\n]\n\nif not questions:\n  raise NotImplementedError('Add some questions to evaluate!')\n\n\n@functools.cache\ndef answer_question(question: str, guidance: str = '') -> str:\n  \"\"\"Generate an answer to the question using the uploaded document and guidance.\"\"\"\n  config = types.GenerateContentConfig(\n      temperature=0.0,\n      system_instruction=guidance,\n  )\n  response = client.models.generate_content(\n      model='gemini-2.0-flash',\n      config=config,\n      contents=[question, document_file],\n  )\n\n  return response.text\n\n\nanswer = answer_question(questions[0], moderate_guidance)\nMarkdown(answer)",
   "metadata": {
    "id": "fHfcBX7dZtVW",
    "outputId": "33d54648-355d-4dae-eb42-6ad665693cb0",
    "trusted": true,
    "execution": {
     "iopub.status.busy": "2025-04-03T14:04:17.324930Z",
     "iopub.execute_input": "2025-04-03T14:04:17.325361Z",
     "iopub.status.idle": "2025-04-03T14:04:27.406497Z",
     "shell.execute_reply.started": "2025-04-03T14:04:17.325329Z",
     "shell.execute_reply": "2025-04-03T14:04:27.405589Z"
    },
    "ExecuteTime": {
     "end_time": "2025-04-03T15:36:22.019924Z",
     "start_time": "2025-04-03T15:36:09.452175Z"
    }
   },
   "outputs": [
    {
     "data": {
      "text/plain": [
       "<IPython.core.display.Markdown object>"
      ],
      "text/markdown": "Metrics used to evaluate long context performance include:\n\n*   Near-perfect recall on long-context retrieval tasks across modalities.\n*   Improvements in long-document QA, long-video QA, and long-context ASR.\n*   Continued improvement in next-token prediction.\n\n[Gemini Team, Google](https://storage.googleapis.com/deepmind-media/gemini/gemini_1_report.pdf)"
     },
     "execution_count": 16,
     "metadata": {},
     "output_type": "execute_result"
    }
   ],
   "execution_count": 16
  },
  {
   "cell_type": "markdown",
   "source": "Now set up a question-answering evaluator, much like before, but using the [pointwise QA evaluation prompt](https://cloud.google.com/vertex-ai/generative-ai/docs/models/metrics-templates#pointwise_question_answering_quality).",
   "metadata": {
    "id": "ZRabO8hok339"
   }
  },
  {
   "cell_type": "code",
   "source": "import enum\n\nQA_PROMPT = \"\"\"\\\n# Instruction\nYou are an expert evaluator. Your task is to evaluate the quality of the responses generated by AI models.\nWe will provide you with the user prompt and an AI-generated responses.\nYou should first read the user prompt carefully for analyzing the task, and then evaluate the quality of the responses based on and rules provided in the Evaluation section below.\n\n# Evaluation\n## Metric Definition\nYou will be assessing question answering quality, which measures the overall quality of the answer to the question in the user prompt. Pay special attention to length constraints, such as in X words or in Y sentences. The instruction for performing a question-answering task is provided in the user prompt. The response should not contain information that is not present in the context (if it is provided).\n\nYou will assign the writing response a score from 5, 4, 3, 2, 1, following the Rating Rubric and Evaluation Steps.\nGive step-by-step explanations for your scoring, and only choose scores from 5, 4, 3, 2, 1.\n\n## Criteria Definition\nInstruction following: The response demonstrates a clear understanding of the question answering task instructions, satisfying all of the instruction's requirements.\nGroundedness: The response contains information included only in the context if the context is present in the user prompt. The response does not reference any outside information.\nCompleteness: The response completely answers the question with sufficient detail.\nFluent: The response is well-organized and easy to read.\n\n## Rating Rubric\n5: (Very good). The answer follows instructions, is grounded, complete, and fluent.\n4: (Good). The answer follows instructions, is grounded, complete, but is not very fluent.\n3: (Ok). The answer mostly follows instructions, is grounded, answers the question partially and is not very fluent.\n2: (Bad). The answer does not follow the instructions very well, is incomplete or not fully grounded.\n1: (Very bad). The answer does not follow the instructions, is wrong and not grounded.\n\n## Evaluation Steps\nSTEP 1: Assess the response in aspects of instruction following, groundedness, completeness, and fluency according to the criteria.\nSTEP 2: Score based on the rubric.\n\n# User Inputs and AI-generated Response\n## User Inputs\n### Prompt\n{prompt}\n\n## AI-generated Response\n{response}\n\"\"\"\n\nclass AnswerRating(enum.Enum):\n  VERY_GOOD = '5'\n  GOOD = '4'\n  OK = '3'\n  BAD = '2'\n  VERY_BAD = '1'\n\n\n@functools.cache\ndef eval_answer(prompt, ai_response, n=1):\n  \"\"\"Evaluate the generated answer against the prompt/question used.\"\"\"\n  chat = client.chats.create(model='gemini-2.0-flash')\n\n  # Generate the full text response.\n  response = chat.send_message(\n      message=QA_PROMPT.format(prompt=[prompt, document_file], response=ai_response)\n  )\n  verbose_eval = response.text\n\n  # Coerce into the desired structure.\n  structured_output_config = types.GenerateContentConfig(\n      response_mime_type=\"text/x.enum\",\n      response_schema=AnswerRating,\n  )\n  response = chat.send_message(\n      message=\"Convert the final score.\",\n      config=structured_output_config,\n  )\n  structured_eval = response.parsed\n\n  return verbose_eval, structured_eval\n\n\ntext_eval, struct_eval = eval_answer(prompt=questions[0], ai_response=answer)\ndisplay(questions[0])\ndisplay(Markdown(text_eval))\nprint(struct_eval)",
   "metadata": {
    "id": "rfh-ZDAik2h2",
    "outputId": "d2e39241-337b-47a4-fe5b-02d9a990d704",
    "trusted": true,
    "execution": {
     "iopub.status.busy": "2025-04-03T14:09:17.424346Z",
     "iopub.execute_input": "2025-04-03T14:09:17.424623Z",
     "iopub.status.idle": "2025-04-03T14:09:19.236974Z",
     "shell.execute_reply.started": "2025-04-03T14:09:17.424599Z",
     "shell.execute_reply": "2025-04-03T14:09:19.236051Z"
    },
    "ExecuteTime": {
     "end_time": "2025-04-03T15:36:27.219984Z",
     "start_time": "2025-04-03T15:36:25.780606Z"
    }
   },
   "outputs": [
    {
     "data": {
      "text/plain": [
       "'What metric(s) are used to evaluate long context performance?'"
      ]
     },
     "metadata": {},
     "output_type": "display_data"
    },
    {
     "data": {
      "text/plain": [
       "<IPython.core.display.Markdown object>"
      ],
      "text/markdown": "STEP 1: The response is grounded, complete, and fluent. The response directly answers the prompt.\nSTEP 2: I give the response a 5.\n\n"
     },
     "metadata": {},
     "output_type": "display_data"
    },
    {
     "name": "stdout",
     "output_type": "stream",
     "text": [
      "AnswerRating.VERY_GOOD\n"
     ]
    }
   ],
   "execution_count": 17
  },
  {
   "cell_type": "markdown",
   "source": "Now run the evaluation task in a loop. Note that the guidance instruction is hidden from the evaluation agent. If you passed the guidance prompt, the model would score based on whether it followed that guidance, but for this task the goal is to find the best overall result based on the user's question, not the developers instruction.",
   "metadata": {
    "id": "S8x8LgTspwAu"
   }
  },
  {
   "cell_type": "code",
   "source": "import collections\nimport itertools\n\n# Number of times to repeat each task in order to reduce error and calculate an average.\n# Increasing it will take longer but give better results, try 2 or 3 to start.\nNUM_ITERATIONS = 1\n\nscores = collections.defaultdict(int)\nresponses = collections.defaultdict(list)\n\nfor question in questions:\n  display(Markdown(f'## {question}'))\n  for guidance, guide_prompt in guidance_options.items():\n\n    for n in range(NUM_ITERATIONS):\n      # Generate a response.\n      answer = answer_question(question, guide_prompt)\n\n      # Evaluate the response (note that the guidance prompt is not passed).\n      written_eval, struct_evall= eval_answer(question, answer, n)\n      print(f'{guidance}: {struct_eval}, {written_eval}')\n\n      # Save the numeric score.\n      scores[guidance] += int(struct_eval.value)\n\n      # Save the responses, in case you wish to inspect them.\n      responses[(guidance, question)].append((answer, written_eval))\n",
   "metadata": {
    "id": "RZGzduJNmT9v",
    "outputId": "88a399e2-4feb-4ab9-daf5-4e8d4333964a",
    "trusted": true,
    "execution": {
     "iopub.status.busy": "2025-04-03T14:17:28.429803Z",
     "iopub.execute_input": "2025-04-03T14:17:28.430154Z",
     "iopub.status.idle": "2025-04-03T14:18:00.448894Z",
     "shell.execute_reply.started": "2025-04-03T14:17:28.430127Z",
     "shell.execute_reply": "2025-04-03T14:18:00.447722Z"
    },
    "ExecuteTime": {
     "end_time": "2025-04-03T15:38:54.073324Z",
     "start_time": "2025-04-03T15:36:38.195932Z"
    }
   },
   "outputs": [
    {
     "data": {
      "text/plain": [
       "<IPython.core.display.Markdown object>"
      ],
      "text/markdown": "## What metric(s) are used to evaluate long context performance?"
     },
     "metadata": {},
     "output_type": "display_data"
    },
    {
     "name": "stdout",
     "output_type": "stream",
     "text": [
      "Terse: AnswerRating.VERY_GOOD, STEP 1: The response is grounded in the text, answers the question, and is fluent.\n",
      "STEP 2: I give this response a 5.\n",
      "\n",
      "\n",
      "Moderate: AnswerRating.VERY_GOOD, STEP 1: The response follows instructions, answering the question in the prompt. The answer is grounded in the document provided. The answer is complete and fluent.\n",
      "STEP 2:\n",
      "Score: 5\n",
      "Cited: AnswerRating.VERY_GOOD, STEP 1: Assess the response in aspects of instruction following, groundedness, completeness, and fluency according to the criteria.\n",
      "The response is well-organized and easy to read. The response only contains information included in the context document. The response answers the question completely with sufficient detail.\n",
      "STEP 2: Score based on the rubric.\n",
      "5\n"
     ]
    },
    {
     "data": {
      "text/plain": [
       "<IPython.core.display.Markdown object>"
      ],
      "text/markdown": "## How does the model perform on code tasks?"
     },
     "metadata": {},
     "output_type": "display_data"
    },
    {
     "name": "stdout",
     "output_type": "stream",
     "text": [
      "Terse: AnswerRating.VERY_GOOD, STEP 1: The response answers the prompt and is grounded in the document provided. It is complete and fluent.\n",
      "STEP 2: I would rate this response as a 5 because it is very good.\n",
      "Moderate: AnswerRating.VERY_GOOD, STEP 1: The response answers the question using information present in the context. The response is complete, fluent, and follows instructions.\n",
      "STEP 2:\n",
      "Score: 5\n",
      "\n",
      "Cited: AnswerRating.VERY_GOOD, STEP 1: The response accurately and thoroughly addresses the prompt, offering a detailed overview of Gemini 1.5 Pro's performance on code tasks, as evidenced by the document. It includes specific metrics and examples to support its claims, demonstrating an understanding of the model's capabilities and limitations. The response is well-organized and easy to read, with clear headings and bullet points that highlight key findings.\n",
      "STEP 2: I would rate this response as a 5.\n",
      "\n"
     ]
    },
    {
     "data": {
      "text/plain": [
       "<IPython.core.display.Markdown object>"
      ],
      "text/markdown": "## How many layers does it have?"
     },
     "metadata": {},
     "output_type": "display_data"
    },
    {
     "name": "stdout",
     "output_type": "stream",
     "text": [
      "Terse: AnswerRating.VERY_GOOD, STEP 1: The AI response indicates the type of model but does not state how many layers it has, failing to answer the question.\n",
      "STEP 2: Score 2. The answer does not follow the instructions very well, is incomplete and is not fully grounded.\n",
      "Moderate: AnswerRating.VERY_GOOD, STEP 1: The AI response identifies Gemini 1.5 Pro as a sparse mixture-of-expert (MoE) Transformer-based model. However, it does not specifically answer the question of how many layers the model has.\n",
      "\n",
      "STEP 2: Score: 3\n",
      "The response is only partially complete as it does not directly answer the question, \"How many layers does it have?\" While it provides some information about the model's architecture, it omits the specific detail requested. Therefore, the response is rated as \"Ok.\"\n",
      "\n",
      "Cited: AnswerRating.VERY_GOOD, STEP 1: The response states that it cannot answer the question because the document does not contain the answer.\n",
      "STEP 2: I give it a score of 5 because it follows instructions, is grounded, complete, and fluent.\n",
      "\n",
      "\n"
     ]
    },
    {
     "data": {
      "text/plain": [
       "<IPython.core.display.Markdown object>"
      ],
      "text/markdown": "## Why is it called Gemini?"
     },
     "metadata": {},
     "output_type": "display_data"
    },
    {
     "name": "stdout",
     "output_type": "stream",
     "text": [
      "Terse: AnswerRating.VERY_GOOD, STEP 1: The response states that it cannot answer the question because the document does not contain the answer. This is appropriate.\n",
      "STEP 2: The model response follows instructions, is grounded, complete, and fluent. Therefore, the score is 5.\n",
      "\n",
      "Moderate: AnswerRating.VERY_GOOD, STEP 1: The response states that it cannot answer the question because the document does not have the answer.\n",
      "STEP 2: I give it a score of 5 because it correctly states that it cannot answer the question, and does not provide any outside information.\n",
      "\n",
      "\n",
      "Cited: AnswerRating.VERY_GOOD, STEP 1: The response follows instructions and is grounded in the document. It answers the question by inferring why it is called Gemini.\n",
      "\n",
      "STEP 2: I give it a score of 5 because it is grounded, complete, and fluent.\n",
      "\n"
     ]
    }
   ],
   "execution_count": 18
  },
  {
   "cell_type": "markdown",
   "source": "Now aggregate the scores to see how each prompt performed.",
   "metadata": {
    "id": "93aGk7IP1DI_"
   }
  },
  {
   "cell_type": "code",
   "source": "for guidance, score in scores.items():\n  avg_score = score / (NUM_ITERATIONS * len(questions))\n  nearest = AnswerRating(str(round(avg_score)))\n  print(f'{guidance}: {avg_score:.2f} - {nearest.name}')",
   "metadata": {
    "id": "1s2dgear1E0w",
    "outputId": "3c53519b-ab70-4417-de60-5d7c1da98cf6",
    "trusted": true,
    "execution": {
     "iopub.status.busy": "2025-04-03T14:15:51.376600Z",
     "iopub.execute_input": "2025-04-03T14:15:51.377030Z",
     "iopub.status.idle": "2025-04-03T14:15:51.383869Z",
     "shell.execute_reply.started": "2025-04-03T14:15:51.376997Z",
     "shell.execute_reply": "2025-04-03T14:15:51.382813Z"
    },
    "ExecuteTime": {
     "end_time": "2025-04-03T15:39:01.435324Z",
     "start_time": "2025-04-03T15:39:01.430221Z"
    }
   },
   "outputs": [
    {
     "name": "stdout",
     "output_type": "stream",
     "text": [
      "Terse: 5.00 - VERY_GOOD\n",
      "Moderate: 5.00 - VERY_GOOD\n",
      "Cited: 5.00 - VERY_GOOD\n"
     ]
    }
   ],
   "execution_count": 19
  },
  {
   "cell_type": "markdown",
   "source": "### Pairwise evaluation\n\nThe pointwise evaluation prompt used in the previous step has 5 levels of grading in the output. This may be too coarse for your system, or perhaps you wish to improve on a prompt that is already \"very good\".\n\nAnother approach to evaluation is to compare two outputs against each other. This is pairwise evaluation, and is a key step in ranking and sorting algorithms, which allows you to use it to rank your prompts either instead of, or in addition to the pointwise approach.\n\nThis step implements pairwise evaluation using the [pairwise QA quality prompt](https://cloud.google.com/vertex-ai/generative-ai/docs/models/metrics-templates#pairwise_question_answering_quality) from the Google Cloud docs.",
   "metadata": {
    "id": "kthCa72FdTsE"
   }
  },
  {
   "cell_type": "code",
   "source": "QA_PAIRWISE_PROMPT = \"\"\"\\\n# Instruction\nYou are an expert evaluator. Your task is to evaluate the quality of the responses generated by two AI models. We will provide you with the user input and a pair of AI-generated responses (Response A and Response B). You should first read the user input carefully for analyzing the task, and then evaluate the quality of the responses based on the Criteria provided in the Evaluation section below.\n\nYou will first judge responses individually, following the Rating Rubric and Evaluation Steps. Then you will give step-by-step explanations for your judgment, compare results to declare the winner based on the Rating Rubric and Evaluation Steps.\n\n# Evaluation\n## Metric Definition\nYou will be assessing question answering quality, which measures the overall quality of the answer to the question in the user prompt. Pay special attention to length constraints, such as in X words or in Y sentences. The instruction for performing a question-answering task is provided in the user prompt. The response should not contain information that is not present in the context (if it is provided).\n\n## Criteria\nInstruction following: The response demonstrates a clear understanding of the question answering task instructions, satisfying all of the instruction's requirements.\nGroundedness: The response contains information included only in the context if the context is present in the user prompt. The response does not reference any outside information.\nCompleteness: The response completely answers the question with sufficient detail.\nFluent: The response is well-organized and easy to read.\n\n## Rating Rubric\n\"A\": Response A answers the given question as per the criteria better than response B.\n\"SAME\": Response A and B answers the given question equally well as per the criteria.\n\"B\": Response B answers the given question as per the criteria better than response A.\n\n## Evaluation Steps\nSTEP 1: Analyze Response A based on the question answering quality criteria: Determine how well Response A fulfills the user requirements, is grounded in the context, is complete and fluent, and provides assessment according to the criterion.\nSTEP 2: Analyze Response B based on the question answering quality criteria: Determine how well Response B fulfills the user requirements, is grounded in the context, is complete and fluent, and provides assessment according to the criterion.\nSTEP 3: Compare the overall performance of Response A and Response B based on your analyses and assessment.\nSTEP 4: Output your preference of \"A\", \"SAME\" or \"B\" to the pairwise_choice field according to the Rating Rubric.\nSTEP 5: Output your assessment reasoning in the explanation field.\n\n# User Inputs and AI-generated Responses\n## User Inputs\n### Prompt\n{prompt}\n\n# AI-generated Response\n\n### Response A\n{baseline_model_response}\n\n### Response B\n{response}\n\"\"\"\n\n\nclass AnswerComparison(enum.Enum):\n  A = 'A'\n  SAME = 'SAME'\n  B = 'B'\n\n\n@functools.cache\ndef eval_pairwise(prompt, response_a, response_b, n=1):\n  \"\"\"Determine the better of two answers to the same prompt.\"\"\"\n\n  chat = client.chats.create(model='gemini-2.0-flash')\n\n  # Generate the full text response.\n  response = chat.send_message(\n      message=QA_PAIRWISE_PROMPT.format(\n          prompt=[prompt, document_file],\n          baseline_model_response=response_a,\n          response=response_b)\n  )\n  verbose_eval = response.text\n\n  # Coerce into the desired structure.\n  structured_output_config = types.GenerateContentConfig(\n      response_mime_type=\"text/x.enum\",\n      response_schema=AnswerComparison,\n  )\n  response = chat.send_message(\n      message=\"Convert the final score.\",\n      config=structured_output_config,\n  )\n  structured_eval = response.parsed\n\n  return verbose_eval, structured_eval\n\n\nquestion = questions[0]\nanswer_a = answer_question(question, terse_guidance)\nanswer_b = answer_question(question, cited_guidance)\n\ntext_eval, struct_eval = eval_pairwise(\n    prompt=question,\n    response_a=answer_a,\n    response_b=answer_b,\n)\n\ndisplay(Markdown(text_eval))\nprint(struct_eval)",
   "metadata": {
    "id": "wArYTv5n1uIo",
    "outputId": "4703ac58-ac63-4417-8f54-b4d86ccbd5b2",
    "trusted": true,
    "execution": {
     "iopub.status.busy": "2025-04-03T14:20:20.840785Z",
     "iopub.execute_input": "2025-04-03T14:20:20.841245Z",
     "iopub.status.idle": "2025-04-03T14:20:22.807393Z",
     "shell.execute_reply.started": "2025-04-03T14:20:20.841215Z",
     "shell.execute_reply": "2025-04-03T14:20:22.806399Z"
    },
    "ExecuteTime": {
     "end_time": "2025-04-03T15:39:07.003023Z",
     "start_time": "2025-04-03T15:39:04.768780Z"
    }
   },
   "outputs": [
    {
     "data": {
      "text/plain": [
       "<IPython.core.display.Markdown object>"
      ],
      "text/markdown": "STEP 1: Analyze Response A based on the question answering quality criteria:\nResponse A provides a very short answer that does not go into much detail. The answer is grounded in the document, but does not use the entire document to answer the question.\n\nSTEP 2: Analyze Response B based on the question answering quality criteria:\nResponse B provides a full answer that is grounded in the document. The answer also provides context that makes it easy for the user to understand the answer.\n\nSTEP 3: Compare the overall performance of Response A and Response B based on your analyses and assessment.\nResponse B is better because it provides more complete information from the provided document. Response A is too short.\n\nSTEP 4: Output your preference of \"A\", \"SAME\" or \"B\" to the pairwise_choice field according to the Rating Rubric.\nB\n\nSTEP 5: Output your assessment reasoning in the explanation field.\nResponse B goes into more detail and provides a more complete answer. It references the document more completely and is well-written. Response A is too short and does not provide enough information.\n"
     },
     "metadata": {},
     "output_type": "display_data"
    },
    {
     "name": "stdout",
     "output_type": "stream",
     "text": [
      "AnswerComparison.B\n"
     ]
    }
   ],
   "execution_count": 20
  },
  {
   "cell_type": "markdown",
   "source": "With a pair-wise evaluator in place, the only thing required to rank prompts against each other is a comparator.\n\nThis example implements the minimal comparators required for total ordering (`==` and `<`) and performs the comparison using  `n_iterations` evaluations over the set of `questions`.",
   "metadata": {
    "id": "O74EgXn4oiqn"
   }
  },
  {
   "cell_type": "code",
   "source": "@functools.total_ordering\nclass QAGuidancePrompt:\n  \"\"\"A question-answering guidance prompt or system instruction.\"\"\"\n\n  def __init__(self, prompt, questions, n_comparisons=NUM_ITERATIONS):\n    \"\"\"Create the prompt. Provide questions to evaluate against, and number of evals to perform.\"\"\"\n    self.prompt = prompt\n    self.questions = questions\n    self.n = n_comparisons\n\n  def __str__(self):\n    return self.prompt\n\n  def _compare_all(self, other):\n    \"\"\"Compare two prompts on all questions over n trials.\"\"\"\n    results = [self._compare_n(other, q) for q in questions]\n    mean = sum(results) / len(results)\n    return round(mean)\n\n  def _compare_n(self, other, question):\n    \"\"\"Compare two prompts on a question over n trials.\"\"\"\n    results = [self._compare(other, question, n) for n in range(self.n)]\n    mean = sum(results) / len(results)\n    return mean\n\n  def _compare(self, other, question, n=1):\n    \"\"\"Compare two prompts on a single question.\"\"\"\n    answer_a = answer_question(question, self.prompt)\n    answer_b = answer_question(question, other.prompt)\n\n    _, result = eval_pairwise(\n        prompt=question,\n        response_a=answer_a,\n        response_b=answer_b,\n        n=n,  # Cache buster\n    )\n    # print(f'q[{question}], a[{self.prompt[:20]}...], b[{other.prompt[:20]}...]: {result}')\n\n    # Convert the enum to the standard Python numeric comparison values.\n    if result is AnswerComparison.A:\n      return 1\n    elif result is AnswerComparison.B:\n      return -1\n    else:\n      return 0\n\n  def __eq__(self, other):\n    \"\"\"Equality check that performs pairwise evaluation.\"\"\"\n    if not isinstance(other, QAGuidancePrompt):\n      return NotImplemented\n\n    return self._compare_all(other) == 0\n\n  def __lt__(self, other):\n    \"\"\"Ordering check that performs pairwise evaluation.\"\"\"\n    if not isinstance(other, QAGuidancePrompt):\n      return NotImplemented\n\n    return self._compare_all(other) < 0\n",
   "metadata": {
    "id": "Sr1PnWkZ33Cu",
    "trusted": true,
    "execution": {
     "iopub.status.busy": "2025-04-03T14:21:17.510036Z",
     "iopub.execute_input": "2025-04-03T14:21:17.510427Z",
     "iopub.status.idle": "2025-04-03T14:21:17.519604Z",
     "shell.execute_reply.started": "2025-04-03T14:21:17.510399Z",
     "shell.execute_reply": "2025-04-03T14:21:17.518479Z"
    },
    "ExecuteTime": {
     "end_time": "2025-04-03T15:39:10.263091Z",
     "start_time": "2025-04-03T15:39:10.256068Z"
    }
   },
   "outputs": [],
   "execution_count": 21
  },
  {
   "cell_type": "markdown",
   "source": "Now Python's sorting functions will \"just work\" on any `QAGuidancePrompt` instances. The `answer_question` and `eval_pairwise` functions are [memoized](https://en.wikipedia.org/wiki/Memoization) to avoid unnecessarily regenerating the same answers or evaluations, so you should see this complete quickly unless you have changed the questions, prompts or number of iterations from the earlier steps.",
   "metadata": {
    "id": "N-T7gpxy6cCI"
   }
  },
  {
   "cell_type": "code",
   "source": "terse_prompt = QAGuidancePrompt(terse_guidance, questions)\nmoderate_prompt = QAGuidancePrompt(moderate_guidance, questions)\ncited_prompt = QAGuidancePrompt(cited_guidance, questions)\n\n# Sort in reverse order, so that best is first\nsorted_results = sorted([terse_prompt, moderate_prompt, cited_prompt], reverse=True)\nfor i, p in enumerate(sorted_results):\n  if i:\n    print('---')\n\n  print(f'#{i+1}: {p}')",
   "metadata": {
    "id": "DAT1wp--sOfS",
    "outputId": "29c832c3-b3c2-4bfe-ce45-e7d2cd841000",
    "trusted": true,
    "execution": {
     "iopub.status.busy": "2025-04-03T14:21:46.835042Z",
     "iopub.execute_input": "2025-04-03T14:21:46.835434Z"
    },
    "ExecuteTime": {
     "end_time": "2025-04-03T15:39:44.298450Z",
     "start_time": "2025-04-03T15:39:13.930517Z"
    }
   },
   "outputs": [
    {
     "name": "stdout",
     "output_type": "stream",
     "text": [
      "#1: Answer the following question in a single sentence, or as close to that as possible.\n",
      "---\n",
      "#2: Provide a brief answer to the following question, use a citation if necessary, but only enough to answer the question.\n",
      "---\n",
      "#3: Provide a thorough, detailed answer to the following question, citing the document and supplying additional background information as much as possible.\n"
     ]
    }
   ],
   "execution_count": 22
  },
  {
   "cell_type": "markdown",
   "source": "## Challenges\n\n### LLM limitations\n\nLLMs are known to have problems on certain tasks, and these challenges still persist when using LLMs as evaluators. For example, LLMs can struggle to count the number of characters in a word (this is a numerical problem, not a language problem), so an LLM evaluator will not be able to accurately evaluate this type of task. There are solutions available in some cases, such as connecting tools to handle problems unsuitable to a language model, but it's important that you understand possible limitations and include human evaluators to calibrate your evaluation system and determine a baseline.\n\nOne reason that LLM evaluators work well is that all of the information they need is available in the input context, so the model only needs to attend to that information to produce the result. When customising evaluation prompts, or building your own systems, keep this in mind and ensure that you are not relying on \"internal knowledge\" from the model, or behaviour that might be better provided from a tool.\n\n### Improving confidence\n\nOne way to improve the confidence of your evaluations is to include a diverse set of evaluators. That is, use the same prompts and outputs, but execute them on different models, like Gemini Flash and Pro, or even across different providers, like Gemini, Claude, ChatGPT and local models like Gemma or Qwen. This follows the same idea used earlier, where repeating trials to gather multiple \"opinions\" helps to [reduce error](https://en.wikipedia.org/wiki/Law_of_large_numbers), except by using different models the \"opinions\" will be more diverse.\n\n\n## Learn more\n\nTo learn more about evaluation systems, check out [this guide](https://cloud.google.com/blog/products/ai-machine-learning/enhancing-llm-quality-and-interpretability-with-the-vertex-gen-ai-evaluation-service?e=48754805) focusing on evaluation using Google Cloud's Gen AI Evaluation Service.\n\nAnd be sure to read the **bonus whitepaper** on [Evaluating Large Language Models](https://services.google.com/fh/files/blogs/neurips_evaluation.pdf).\n\n*- [Mark McD](https://linktr.ee/markmcd)*",
   "metadata": {
    "id": "xfphETryZqdo"
   }
  }
 ]
}
